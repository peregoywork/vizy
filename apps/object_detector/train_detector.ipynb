{
  "cells": [
    {
      "cell_type": "code",
      "execution_count": 2,
      "metadata": {
        "colab": {
          "base_uri": "https://localhost:8080/"
        },
        "id": "gq3E08vWXsGv",
        "outputId": "49597391-d635-46df-9b9f-97ff285d8dbd"
      },
      "outputs": [],
      "source": [
        "from google.colab import drive\n",
        "drive.mount('/content/drive')\n",
        "\n",
        "!pip install folium==0.2.1\n",
        "!pip install tensorflow==2.8\n",
        "!apt install --allow-change-held-packages libcudnn8=8.1.0.77-1+cuda11.2\n",
        "!pip install -q tflite-model-maker\n",
        "!pip install -q tflite-support\n",
        "\n",
        "import numpy as np\n",
        "import os\n",
        "\n",
        "from tflite_model_maker.config import ExportFormat, QuantizationConfig\n",
        "from tflite_model_maker import model_spec\n",
        "from tflite_model_maker import object_detector\n",
        "\n",
        "from tflite_support import metadata\n",
        "\n",
        "import tensorflow as tf\n",
        "assert tf.__version__.startswith('2')\n",
        "\n",
        "tf.get_logger().setLevel('ERROR')\n",
        "from absl import logging\n",
        "logging.set_verbosity(logging.ERROR)"
      ]
    },
    {
      "cell_type": "code",
      "execution_count": 3,
      "metadata": {
        "id": "-2Bh6hnDb347"
      },
      "outputs": [],
      "source": [
        "!unzip -q \"$PROJECT_DIR/training_set.zip\""
      ]
    },
    {
      "cell_type": "code",
      "execution_count": 7,
      "metadata": {
        "id": "HBAfF82Q_rUo",
        "colab": {
          "base_uri": "https://localhost:8080/",
          "height": 452
        },
        "outputId": "44a4ccd5-5605-4a53-8687-0139b225a433"
      },
      "outputs": [],
      "source": [
        "import json\n",
        "with open(os.path.join(PROJECT_DIR, f\"{PROJECT_NAME}.json\")) as file:\n",
        "    info = json.load(file)\n",
        "\n",
        "train_data = object_detector.DataLoader.from_pascal_voc(\n",
        "    '/content/train',\n",
        "    '/content/train',\n",
        "    info['classes']\n",
        ")\n",
        "\n",
        "val_data = object_detector.DataLoader.from_pascal_voc(\n",
        "    '/content/validate',\n",
        "    '/content/validate',\n",
        "    info['classes']\n",
        ")"
      ]
    },
    {
      "cell_type": "code",
      "execution_count": 6,
      "metadata": {
        "colab": {
          "base_uri": "https://localhost:8080/",
          "height": 397
        },
        "id": "uW7AsxXwc0r8",
        "outputId": "881af708-96bd-483b-eaee-9d843abb4001"
      },
      "outputs": [],
      "source": [
        "spec = model_spec.get('efficientdet_lite0')\n",
        "model = object_detector.create(train_data, model_spec=spec, batch_size=4, train_whole_model=True, epochs=20, validation_data=val_data)"
      ]
    },
    {
      "cell_type": "code",
      "execution_count": null,
      "metadata": {
        "id": "BgxyZmmwgQiN"
      },
      "outputs": [],
      "source": [
        "model.evaluate(val_data)"
      ]
    },
    {
      "cell_type": "code",
      "execution_count": null,
      "metadata": {
        "id": "qNeI-dt4gUU9"
      },
      "outputs": [],
      "source": [
        "model.export(export_dir='.', tflite_filename=f'{PROJECT_NAME}.tflite')"
      ]
    },
    {
      "cell_type": "code",
      "execution_count": null,
      "metadata": {
        "id": "vW3ycrL1gW-8"
      },
      "outputs": [],
      "source": [
        "model.evaluate_tflite(f'{PROJECT_NAME}.tflite', val_data)"
      ]
    },
    {
      "cell_type": "code",
      "source": [
        "!cp \"$PROJECT_NAME\"'.tflite' \"$PROJECT_DIR\""
      ],
      "metadata": {
        "id": "GSbIudVTwE0w"
      },
      "execution_count": null,
      "outputs": []
    }
  ],
  "metadata": {
    "accelerator": "GPU",
    "colab": {
      "collapsed_sections": [],
      "machine_shape": "hm",
      "provenance": []
    },
    "gpuClass": "standard",
    "kernelspec": {
      "display_name": "Python 3",
      "name": "python3"
    },
    "language_info": {
      "name": "python"
    }
  },
  "nbformat": 4,
  "nbformat_minor": 0
}